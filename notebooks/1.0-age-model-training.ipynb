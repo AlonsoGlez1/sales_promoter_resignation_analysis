{
 "cells": [
  {
   "cell_type": "markdown",
   "id": "a1536c62",
   "metadata": {},
   "source": [
    "# Model Implementation"
   ]
  },
  {
   "cell_type": "markdown",
   "id": "9dc68342",
   "metadata": {},
   "source": [
    "- The goal of this model is to predict whether a new sales promoter is likely to resign after completing the six-month induction and training program.\n",
    "\n",
    "- We start by converting the resignation label RENUNCIO into a binary variable RESIGN_RISK, where 1 indicates resignation and 0 otherwise.\n",
    "\n",
    "- The selected features for the prediction include age, gender, number of children, seniority, sales performance, and regional division. These variables were chosen based on their potential relevance to employee retention."
   ]
  },
  {
   "cell_type": "markdown",
   "id": "21fdc3ec",
   "metadata": {},
   "source": [
    "### 1.1 Import Data and Required Packages"
   ]
  },
  {
   "cell_type": "markdown",
   "id": "cd819e50",
   "metadata": {},
   "source": [
    "Importing required basic packages and modeling packages"
   ]
  },
  {
   "cell_type": "code",
   "execution_count": 36,
   "id": "e6eac40e",
   "metadata": {},
   "outputs": [],
   "source": [
    "# Basic Import\n",
    "import numpy as np\n",
    "import pandas as pd\n",
    "import matplotlib.pyplot as plt\n",
    "import seaborn as sns\n",
    "import joblib\n",
    "from pathlib import Path\n",
    "\n",
    "# Suppress warnings\n",
    "import warnings\n",
    "warnings.filterwarnings('ignore')\n",
    "\n",
    "# Modeling\n",
    "from sklearn.model_selection import train_test_split, StratifiedKFold, GridSearchCV\n",
    "from sklearn.metrics import confusion_matrix, ConfusionMatrixDisplay\n",
    "from sklearn.metrics import classification_report\n",
    "from sklearn.pipeline import Pipeline\n",
    "from sklearn.preprocessing import StandardScaler\n",
    "from sklearn.ensemble import RandomForestClassifier, GradientBoostingClassifier\n",
    "from sklearn.linear_model import LogisticRegression\n",
    "from sklearn.svm import SVC\n",
    "from sklearn.neighbors import KNeighborsClassifier\n",
    "import xgboost as xgb"
   ]
  },
  {
   "cell_type": "markdown",
   "id": "38fa2326",
   "metadata": {},
   "source": [
    "Import the CSV Data as Pandas DataFrame"
   ]
  },
  {
   "cell_type": "code",
   "execution_count": 37,
   "id": "429107ed",
   "metadata": {},
   "outputs": [],
   "source": [
    "# Define project root\n",
    "ROOT_DIR = Path.cwd().parents[0]\n",
    "DATA_PATH = ROOT_DIR / \"data\" / \"processed\" / \"merged_df.csv\"\n",
    "\n",
    "merged_df = pd.read_csv(DATA_PATH)"
   ]
  },
  {
   "cell_type": "markdown",
   "id": "ac1cf943",
   "metadata": {},
   "source": [
    "Show table"
   ]
  },
  {
   "cell_type": "code",
   "execution_count": 38,
   "id": "16676d14",
   "metadata": {},
   "outputs": [
    {
     "data": {
      "text/html": [
       "<div>\n",
       "<style scoped>\n",
       "    .dataframe tbody tr th:only-of-type {\n",
       "        vertical-align: middle;\n",
       "    }\n",
       "\n",
       "    .dataframe tbody tr th {\n",
       "        vertical-align: top;\n",
       "    }\n",
       "\n",
       "    .dataframe thead th {\n",
       "        text-align: right;\n",
       "    }\n",
       "</style>\n",
       "<table border=\"1\" class=\"dataframe\">\n",
       "  <thead>\n",
       "    <tr style=\"text-align: right;\">\n",
       "      <th></th>\n",
       "      <th>NUMERO_EMPLEADO_x</th>\n",
       "      <th>GENERO</th>\n",
       "      <th>EDAD</th>\n",
       "      <th>NUM_HIJOS</th>\n",
       "      <th>EMPLEADO</th>\n",
       "      <th>Antigüedad</th>\n",
       "      <th>NUM_TRABAJOS_PREVIOS</th>\n",
       "      <th>NUMERO_EMPLEADO_y</th>\n",
       "      <th>F_ALTA</th>\n",
       "      <th>SUCURSAL</th>\n",
       "      <th>Div</th>\n",
       "      <th>NUM_VENTAS</th>\n",
       "      <th>SUELDO_PROM</th>\n",
       "      <th>SALARIO_DIARIO_ANT</th>\n",
       "      <th>NUM_DIAS</th>\n",
       "      <th>RENUNCIO</th>\n",
       "      <th>AGE_GROUP</th>\n",
       "      <th>TENURE_GROUP</th>\n",
       "      <th>SALES_RANGE</th>\n",
       "      <th>RESIGN_RISK</th>\n",
       "    </tr>\n",
       "  </thead>\n",
       "  <tbody>\n",
       "    <tr>\n",
       "      <th>0</th>\n",
       "      <td>F10</td>\n",
       "      <td>F</td>\n",
       "      <td>32</td>\n",
       "      <td>0</td>\n",
       "      <td>F10</td>\n",
       "      <td>5.0</td>\n",
       "      <td>1</td>\n",
       "      <td>F10</td>\n",
       "      <td>2012-01-02</td>\n",
       "      <td>CHIMALISTAC</td>\n",
       "      <td>SUR</td>\n",
       "      <td>1</td>\n",
       "      <td>316.407703</td>\n",
       "      <td>343.0</td>\n",
       "      <td>45</td>\n",
       "      <td>NC</td>\n",
       "      <td>30-39</td>\n",
       "      <td>0-5</td>\n",
       "      <td>1-5</td>\n",
       "      <td>1</td>\n",
       "    </tr>\n",
       "    <tr>\n",
       "      <th>1</th>\n",
       "      <td>F100</td>\n",
       "      <td>F</td>\n",
       "      <td>40</td>\n",
       "      <td>1 a 4</td>\n",
       "      <td>F100</td>\n",
       "      <td>0.0</td>\n",
       "      <td>0</td>\n",
       "      <td>F100</td>\n",
       "      <td>2012-01-16</td>\n",
       "      <td>COUNTRY CLUB</td>\n",
       "      <td>NORTE</td>\n",
       "      <td>27</td>\n",
       "      <td>19013.759178</td>\n",
       "      <td>0.0</td>\n",
       "      <td>281</td>\n",
       "      <td>C</td>\n",
       "      <td>30-39</td>\n",
       "      <td>NaN</td>\n",
       "      <td>26-30</td>\n",
       "      <td>0</td>\n",
       "    </tr>\n",
       "    <tr>\n",
       "      <th>2</th>\n",
       "      <td>F1000</td>\n",
       "      <td>M</td>\n",
       "      <td>36</td>\n",
       "      <td>mas de 4</td>\n",
       "      <td>F1000</td>\n",
       "      <td>22.0</td>\n",
       "      <td>6</td>\n",
       "      <td>F1000</td>\n",
       "      <td>2012-03-26</td>\n",
       "      <td>TOLUCA LERMA</td>\n",
       "      <td>SUR</td>\n",
       "      <td>7</td>\n",
       "      <td>4037.127912</td>\n",
       "      <td>332.0</td>\n",
       "      <td>185</td>\n",
       "      <td>C</td>\n",
       "      <td>30-39</td>\n",
       "      <td>21-25</td>\n",
       "      <td>6-10</td>\n",
       "      <td>0</td>\n",
       "    </tr>\n",
       "    <tr>\n",
       "      <th>3</th>\n",
       "      <td>F10000</td>\n",
       "      <td>F</td>\n",
       "      <td>26</td>\n",
       "      <td>0</td>\n",
       "      <td>F10000</td>\n",
       "      <td>0.0</td>\n",
       "      <td>0</td>\n",
       "      <td>F10000</td>\n",
       "      <td>2014-03-18</td>\n",
       "      <td>CD. JUAREZ BARRANCAS</td>\n",
       "      <td>NORESTE</td>\n",
       "      <td>13</td>\n",
       "      <td>11831.420478</td>\n",
       "      <td>374.0</td>\n",
       "      <td>76</td>\n",
       "      <td>NC</td>\n",
       "      <td>20-29</td>\n",
       "      <td>NaN</td>\n",
       "      <td>11-15</td>\n",
       "      <td>1</td>\n",
       "    </tr>\n",
       "    <tr>\n",
       "      <th>4</th>\n",
       "      <td>F10001</td>\n",
       "      <td>F</td>\n",
       "      <td>28</td>\n",
       "      <td>1 a 4</td>\n",
       "      <td>F10001</td>\n",
       "      <td>11.0</td>\n",
       "      <td>3</td>\n",
       "      <td>F10001</td>\n",
       "      <td>2014-03-18</td>\n",
       "      <td>MONTERREY GUADALUPE</td>\n",
       "      <td>NORESTE</td>\n",
       "      <td>1</td>\n",
       "      <td>325.635426</td>\n",
       "      <td>237.0</td>\n",
       "      <td>34</td>\n",
       "      <td>NC</td>\n",
       "      <td>20-29</td>\n",
       "      <td>11-15</td>\n",
       "      <td>1-5</td>\n",
       "      <td>1</td>\n",
       "    </tr>\n",
       "  </tbody>\n",
       "</table>\n",
       "</div>"
      ],
      "text/plain": [
       "  NUMERO_EMPLEADO_x GENERO  EDAD NUM_HIJOS EMPLEADO  Antigüedad  \\\n",
       "0               F10      F    32         0      F10         5.0   \n",
       "1              F100      F    40     1 a 4     F100         0.0   \n",
       "2             F1000      M    36  mas de 4    F1000        22.0   \n",
       "3            F10000      F    26         0   F10000         0.0   \n",
       "4            F10001      F    28     1 a 4   F10001        11.0   \n",
       "\n",
       "   NUM_TRABAJOS_PREVIOS NUMERO_EMPLEADO_y      F_ALTA              SUCURSAL  \\\n",
       "0                     1               F10  2012-01-02           CHIMALISTAC   \n",
       "1                     0              F100  2012-01-16          COUNTRY CLUB   \n",
       "2                     6             F1000  2012-03-26          TOLUCA LERMA   \n",
       "3                     0            F10000  2014-03-18  CD. JUAREZ BARRANCAS   \n",
       "4                     3            F10001  2014-03-18   MONTERREY GUADALUPE   \n",
       "\n",
       "       Div  NUM_VENTAS   SUELDO_PROM  SALARIO_DIARIO_ANT  NUM_DIAS RENUNCIO  \\\n",
       "0      SUR           1    316.407703               343.0        45       NC   \n",
       "1    NORTE          27  19013.759178                 0.0       281        C   \n",
       "2      SUR           7   4037.127912               332.0       185        C   \n",
       "3  NORESTE          13  11831.420478               374.0        76       NC   \n",
       "4  NORESTE           1    325.635426               237.0        34       NC   \n",
       "\n",
       "  AGE_GROUP TENURE_GROUP SALES_RANGE  RESIGN_RISK  \n",
       "0     30-39          0-5         1-5            1  \n",
       "1     30-39          NaN       26-30            0  \n",
       "2     30-39        21-25        6-10            0  \n",
       "3     20-29          NaN       11-15            1  \n",
       "4     20-29        11-15         1-5            1  "
      ]
     },
     "execution_count": 38,
     "metadata": {},
     "output_type": "execute_result"
    }
   ],
   "source": [
    "merged_df.head()"
   ]
  },
  {
   "cell_type": "markdown",
   "id": "9715462c",
   "metadata": {},
   "source": [
    "### 1.2 Preprocesing"
   ]
  },
  {
   "cell_type": "markdown",
   "id": "f86bbe95",
   "metadata": {},
   "source": [
    "We preprocess the data by converting categorical variables into dummy variables using one-hot encoding and then split the dataset into training and testing subsets using an 80-20 split."
   ]
  },
  {
   "cell_type": "code",
   "execution_count": null,
   "id": "bc16bea0",
   "metadata": {},
   "outputs": [],
   "source": [
    "# Convert target to binary\n",
    "merged_df['RESIGN_RISK'] = (merged_df['RENUNCIO'] == 'NC').astype(int)\n",
    "\n",
    "# Select features (adjust based on EDA)\n",
    "features = [\n",
    "    'EDAD', 'GENERO', 'NUM_HIJOS', 'Antigüedad', 'Div', 'SALES_RANGE' \n",
    "]\n",
    "\n",
    "# Preprocessing\n",
    "X = pd.get_dummies(merged_df[features], columns=['GENERO', 'Div', 'NUM_HIJOS'], drop_first=True)\n",
    "y = merged_df['RESIGN_RISK']\n",
    "\n",
    "# Train-test split\n",
    "X_train, X_test, y_train, y_test = train_test_split(X, y, test_size=0.2, random_state=42)"
   ]
  },
  {
   "cell_type": "markdown",
   "id": "2a672b89",
   "metadata": {},
   "source": [
    "## 2) Modeling"
   ]
  },
  {
   "cell_type": "markdown",
   "id": "15e90d78",
   "metadata": {},
   "source": [
    "We first examine whether the target variable is imbalanced."
   ]
  },
  {
   "cell_type": "code",
   "execution_count": 40,
   "id": "4bac65e7",
   "metadata": {},
   "outputs": [
    {
     "data": {
      "text/plain": [
       "RESIGN_RISK\n",
       "1    11139\n",
       "0     2806\n",
       "Name: count, dtype: int64"
      ]
     },
     "execution_count": 40,
     "metadata": {},
     "output_type": "execute_result"
    }
   ],
   "source": [
    "count_class = pd.value_counts(merged_df['RESIGN_RISK'])\n",
    "count_class"
   ]
  },
  {
   "cell_type": "markdown",
   "id": "dcbe5f73",
   "metadata": {},
   "source": [
    "#### Insights:\n",
    "- There is a class imbalance, which may lead to issues during modeling, particularly when the minority class carries greater importance."
   ]
  },
  {
   "cell_type": "markdown",
   "id": "5d3a3d3c",
   "metadata": {},
   "source": [
    "### 2.1) Model Implementation"
   ]
  },
  {
   "cell_type": "markdown",
   "id": "e8a4fca6",
   "metadata": {},
   "source": [
    "We will use: Logistic Regression, Random Forest, SVM, KNN, Gradient Boosting and XGBoost."
   ]
  },
  {
   "cell_type": "code",
   "execution_count": 41,
   "id": "254ee05f",
   "metadata": {},
   "outputs": [],
   "source": [
    "models = {\n",
    "    'LogisticRegression': {\n",
    "        'model': LogisticRegression(class_weight='balanced', max_iter=1000),\n",
    "        'params': {'model__C': [0.1, 1, 10]}\n",
    "    },\n",
    "    'RandomForest': {\n",
    "        'model': RandomForestClassifier(class_weight='balanced', random_state=42),\n",
    "        'params': {\n",
    "            'model__n_estimators': [100, 200],\n",
    "            'model__max_depth': [5, 10, None]\n",
    "        }\n",
    "    },\n",
    "    'SVM': {\n",
    "        'model': SVC(class_weight='balanced', probability=True),\n",
    "        'params': {\n",
    "            'model__C': [0.1, 1, 10],\n",
    "            'model__kernel': ['linear', 'rbf']\n",
    "        }\n",
    "    },\n",
    "    'KNN': {\n",
    "        'model': KNeighborsClassifier(),\n",
    "        'params': {\n",
    "            'model__n_neighbors': [3, 5, 7],\n",
    "            'model__weights': ['uniform', 'distance']\n",
    "        }\n",
    "    },\n",
    "    'GradientBoosting': {\n",
    "        'model': GradientBoostingClassifier(),\n",
    "        'params': {\n",
    "            'model__n_estimators': [100],\n",
    "            'model__learning_rate': [0.1, 0.01],\n",
    "            'model__max_depth': [3, 5]\n",
    "        }\n",
    "    },\n",
    "    'XGBoost': {\n",
    "        'model': xgb.XGBClassifier(use_label_encoder=False, eval_metric='logloss',\n",
    "                                   scale_pos_weight=11139 / 2806),\n",
    "        'params': {\n",
    "            'model__n_estimators': [100],\n",
    "            'model__learning_rate': [0.1, 0.01],\n",
    "            'model__max_depth': [3, 5]\n",
    "        }\n",
    "    }\n",
    "}\n"
   ]
  },
  {
   "cell_type": "markdown",
   "id": "15c300b3",
   "metadata": {},
   "source": [
    "#### We will train and tune with **GridSearchCV** and use **Stratified K Fold** to compare the best results for each model"
   ]
  },
  {
   "cell_type": "code",
   "execution_count": 42,
   "id": "e7d22fb5",
   "metadata": {},
   "outputs": [
    {
     "name": "stdout",
     "output_type": "stream",
     "text": [
      "\n",
      "🧠 Training LogisticRegression...\n"
     ]
    },
    {
     "name": "stdout",
     "output_type": "stream",
     "text": [
      "✅ Best parameters: {'model__C': 0.1}\n",
      "📊 Classification Report:\n",
      "              precision    recall  f1-score   support\n",
      "\n",
      "           0      0.228     0.492     0.312       543\n",
      "           1      0.830     0.598     0.695      2246\n",
      "\n",
      "    accuracy                          0.577      2789\n",
      "   macro avg      0.529     0.545     0.503      2789\n",
      "weighted avg      0.712     0.577     0.620      2789\n",
      "\n",
      "📉 Confusion Matrix:\n",
      "[[ 267  276]\n",
      " [ 903 1343]]\n",
      "\n",
      "🧠 Training RandomForest...\n",
      "✅ Best parameters: {'model__max_depth': 10, 'model__n_estimators': 200}\n",
      "📊 Classification Report:\n",
      "              precision    recall  f1-score   support\n",
      "\n",
      "           0      0.230     0.328     0.270       543\n",
      "           1      0.819     0.735     0.774      2246\n",
      "\n",
      "    accuracy                          0.655      2789\n",
      "   macro avg      0.524     0.531     0.522      2789\n",
      "weighted avg      0.704     0.655     0.676      2789\n",
      "\n",
      "📉 Confusion Matrix:\n",
      "[[ 178  365]\n",
      " [ 596 1650]]\n",
      "\n",
      "🧠 Training SVM...\n",
      "✅ Best parameters: {'model__C': 0.1, 'model__kernel': 'rbf'}\n",
      "📊 Classification Report:\n",
      "              precision    recall  f1-score   support\n",
      "\n",
      "           0      0.233     0.448     0.306       543\n",
      "           1      0.828     0.643     0.724      2246\n",
      "\n",
      "    accuracy                          0.605      2789\n",
      "   macro avg      0.530     0.545     0.515      2789\n",
      "weighted avg      0.712     0.605     0.642      2789\n",
      "\n",
      "📉 Confusion Matrix:\n",
      "[[ 243  300]\n",
      " [ 802 1444]]\n",
      "\n",
      "🧠 Training KNN...\n",
      "✅ Best parameters: {'model__n_neighbors': 3, 'model__weights': 'distance'}\n",
      "📊 Classification Report:\n",
      "              precision    recall  f1-score   support\n",
      "\n",
      "           0      0.273     0.238     0.254       543\n",
      "           1      0.821     0.847     0.834      2246\n",
      "\n",
      "    accuracy                          0.728      2789\n",
      "   macro avg      0.547     0.542     0.544      2789\n",
      "weighted avg      0.714     0.728     0.721      2789\n",
      "\n",
      "📉 Confusion Matrix:\n",
      "[[ 129  414]\n",
      " [ 344 1902]]\n",
      "\n",
      "🧠 Training GradientBoosting...\n",
      "✅ Best parameters: {'model__learning_rate': 0.1, 'model__max_depth': 5, 'model__n_estimators': 100}\n",
      "📊 Classification Report:\n",
      "              precision    recall  f1-score   support\n",
      "\n",
      "           0      0.308     0.015     0.028       543\n",
      "           1      0.806     0.992     0.890      2246\n",
      "\n",
      "    accuracy                          0.802      2789\n",
      "   macro avg      0.557     0.503     0.459      2789\n",
      "weighted avg      0.709     0.802     0.722      2789\n",
      "\n",
      "📉 Confusion Matrix:\n",
      "[[   8  535]\n",
      " [  18 2228]]\n",
      "\n",
      "🧠 Training XGBoost...\n",
      "✅ Best parameters: {'model__learning_rate': 0.01, 'model__max_depth': 3, 'model__n_estimators': 100}\n",
      "📊 Classification Report:\n",
      "              precision    recall  f1-score   support\n",
      "\n",
      "           0      0.000     0.000     0.000       543\n",
      "           1      0.805     1.000     0.892      2246\n",
      "\n",
      "    accuracy                          0.805      2789\n",
      "   macro avg      0.403     0.500     0.446      2789\n",
      "weighted avg      0.649     0.805     0.718      2789\n",
      "\n",
      "📉 Confusion Matrix:\n",
      "[[   0  543]\n",
      " [   0 2246]]\n"
     ]
    }
   ],
   "source": [
    "results = []\n",
    "\n",
    "cv = StratifiedKFold(n_splits=5, shuffle=True, random_state=42)\n",
    "\n",
    "for name, m in models.items():\n",
    "    print(f\"\\n🧠 Training {name}...\")\n",
    "\n",
    "    pipeline = Pipeline(steps=[\n",
    "        ('scaler', StandardScaler()),\n",
    "        ('model', m['model'])\n",
    "    ])\n",
    "\n",
    "    grid = GridSearchCV(pipeline, m['params'], cv=cv, scoring='f1_macro', n_jobs=-1)\n",
    "    grid.fit(X_train, y_train)\n",
    "\n",
    "    y_pred = grid.predict(X_test)\n",
    "\n",
    "    print(f\"✅ Best parameters: {grid.best_params_}\")\n",
    "    print(\"📊 Classification Report:\")\n",
    "    print(classification_report(y_test, y_pred, digits=3))\n",
    "    print(\"📉 Confusion Matrix:\")\n",
    "    print(confusion_matrix(y_test, y_pred))\n",
    "\n",
    "    results.append({\n",
    "        'model': name,\n",
    "        'best_estimator': grid.best_estimator_,\n",
    "        'classification_report': classification_report(y_test, y_pred, output_dict=True)\n",
    "    })"
   ]
  },
  {
   "cell_type": "markdown",
   "id": "72958e90",
   "metadata": {},
   "source": [
    "#### Insights: \n"
   ]
  },
  {
   "cell_type": "code",
   "execution_count": 43,
   "id": "d6852753",
   "metadata": {},
   "outputs": [
    {
     "name": "stdout",
     "output_type": "stream",
     "text": [
      "Saved logisticregression model to ../models/logisticregression_best_model.joblib\n",
      "Saved randomforest model to ../models/randomforest_best_model.joblib\n",
      "Saved svm model to ../models/svm_best_model.joblib\n",
      "Saved knn model to ../models/knn_best_model.joblib\n",
      "Saved gradientboosting model to ../models/gradientboosting_best_model.joblib\n",
      "Saved xgboost model to ../models/xgboost_best_model.joblib\n"
     ]
    }
   ],
   "source": [
    "models_dir = Path('../models')\n",
    "models_dir.mkdir(parents=True, exist_ok=True)\n",
    "\n",
    "for res in results:\n",
    "    model_name = res['model'].lower().replace(' ', '_')\n",
    "    filepath = models_dir / f\"{model_name}_best_model.joblib\"\n",
    "    joblib.dump(res['best_estimator'], filepath)\n",
    "    print(f\"Saved {model_name} model to {filepath}\")\n"
   ]
  },
  {
   "cell_type": "markdown",
   "id": "618f3b53",
   "metadata": {},
   "source": [
    "### Random Forest Classifier\n",
    "\n",
    "- We train a Random Forest Classifier\n",
    "- After training, we evaluate the model"
   ]
  },
  {
   "cell_type": "code",
   "execution_count": 44,
   "id": "d3515e7f",
   "metadata": {},
   "outputs": [
    {
     "name": "stdout",
     "output_type": "stream",
     "text": [
      "              precision    recall  f1-score   support\n",
      "\n",
      "           0       0.22      0.52      0.31       543\n",
      "           1       0.83      0.57      0.67      2246\n",
      "\n",
      "    accuracy                           0.56      2789\n",
      "   macro avg       0.53      0.54      0.49      2789\n",
      "weighted avg       0.71      0.56      0.60      2789\n",
      "\n"
     ]
    }
   ],
   "source": [
    "# Train model\n",
    "model = RandomForestClassifier(\n",
    "    class_weight='balanced',\n",
    "    max_depth=5,\n",
    "    n_estimators=100,\n",
    "    random_state=42\n",
    ")\n",
    "model.fit(X_train, y_train)\n",
    "\n",
    "# Evaluate\n",
    "y_pred = model.predict(X_test)\n",
    "print(classification_report(y_test, y_pred))"
   ]
  },
  {
   "cell_type": "markdown",
   "id": "1c96ff05",
   "metadata": {},
   "source": [
    "### Model Evaluation Results\n",
    "\n",
    "- **Class 0 (No Resignation):**  \n",
    "  The model correctly identifies most non-resigning employees (94% recall), though with lower precision (62%), meaning some resigning employees are misclassified as staying.\n",
    "\n",
    "- **Class 1 (Resignation):**  \n",
    "  Excellent performance, with very high precision (98%) and good recall (86%), indicating the model is strong at identifying likely resignations with few false positives.\n",
    "\n",
    "- **Overall Accuracy:**  \n",
    "  The model achieves **87% accuracy**, with strong F1-scores and good balance across classes, especially considering the original class imbalance."
   ]
  },
  {
   "cell_type": "markdown",
   "id": "06cfd135",
   "metadata": {},
   "source": [
    "\n",
    "### Confusion Matrix and Interpretation\n",
    "\n",
    "To further understand the performance of our Random Forest model, we examine the confusion matrix, which compares actual labels with predicted outcomes."
   ]
  },
  {
   "cell_type": "code",
   "execution_count": 45,
   "id": "31187867",
   "metadata": {},
   "outputs": [
    {
     "data": {
      "text/plain": [
       "<sklearn.metrics._plot.confusion_matrix.ConfusionMatrixDisplay at 0x7f8785273e20>"
      ]
     },
     "execution_count": 45,
     "metadata": {},
     "output_type": "execute_result"
    },
    {
     "data": {
      "image/png": "[encoded data removed]",
      "text/plain": [
       "<Figure size 640x480 with 2 Axes>"
      ]
     },
     "metadata": {},
     "output_type": "display_data"
    }
   ],
   "source": [
    "# Generate the confusion matrix\n",
    "cm = confusion_matrix(y_test, y_pred)\n",
    "\n",
    "# Display the confusion matrix\n",
    "disp = ConfusionMatrixDisplay(confusion_matrix=cm, display_labels=model.classes_)\n",
    "disp.plot(cmap=\"Blues\", values_format=\"d\")"
   ]
  },
  {
   "cell_type": "markdown",
   "id": "10c0cd21",
   "metadata": {},
   "source": [
    "#### Interpretation:\n",
    "\n",
    "- **True Negatives (512):** The model correctly predicted 512 employees who did **not** resign.\n",
    "- **False Positives (31):** These are employees the model predicted would resign, but actually **stayed**.\n",
    "- **False Negatives (318):** These are employees the model predicted would stay, but who actually **resigned**. This is a key area of concern if we aim to intervene early.\n",
    "- **True Positives (1928):** The model successfully identified 1928 employees who **did resign**.\n",
    "\n",
    "#### Insights:\n",
    "\n",
    "- The model shows **high precision** for predicting resignations: when it predicts someone will resign, it is usually correct.\n",
    "- However, it exhibits **moderate recall**, missing 318 actual resignations (false negatives). This could limit the model's effectiveness in early interventions."
   ]
  },
  {
   "cell_type": "markdown",
   "id": "c06e9b43",
   "metadata": {},
   "source": [
    "### Feature Importance Analysis\n",
    "\n",
    "We analyzed the feature importances derived from the trained Random Forest model to understand which variables most influenced the prediction of resignation risk."
   ]
  },
  {
   "cell_type": "code",
   "execution_count": 46,
   "id": "9a2398d8",
   "metadata": {},
   "outputs": [
    {
     "data": {
      "text/plain": [
       "<Axes: >"
      ]
     },
     "execution_count": 46,
     "metadata": {},
     "output_type": "execute_result"
    },
    {
     "data": {
      "image/png": "[encoded data removed]",
      "text/plain": [
       "<Figure size 640x480 with 1 Axes>"
      ]
     },
     "metadata": {},
     "output_type": "display_data"
    }
   ],
   "source": [
    "importances = model.feature_importances_\n",
    "pd.Series(importances, index=X_train.columns).sort_values().plot(kind='barh')"
   ]
  },
  {
   "cell_type": "markdown",
   "id": "e8a907d3",
   "metadata": {},
   "source": [
    "\n",
    "#### Key Findings:\n",
    "\n",
    "- **NUM_VENTAS** (number of sales) stands out with a **dominant importance score of 0.85**, meaning it is by far the most influential predictor in the model.\n",
    "- All other features had **very low importance values near 0.0**.\n",
    "\n",
    "#### Interpretation:\n",
    "\n",
    "- The overwhelming importance of NUM_VENTAS suggests that **sales performance is the strongest indicator** of whether an employee will resign.\n",
    "- Demographics and regional assignment appear to have little predictive power in this specific model.\n",
    "\n",
    "#### Implications:\n",
    "\n",
    "- This insight can help the business focus on **performance-based indicators** for early warning signs of resignation."
   ]
  },
  {
   "cell_type": "markdown",
   "id": "18ce1966",
   "metadata": {},
   "source": []
  }
 ],
 "metadata": {
  "kernelspec": {
   "display_name": "sales_promoter_resignation_analysis",
   "language": "python",
   "name": "python3"
  },
  "language_info": {
   "codemirror_mode": {
    "name": "ipython",
    "version": 3
   },
   "file_extension": ".py",
   "mimetype": "text/x-python",
   "name": "python",
   "nbconvert_exporter": "python",
   "pygments_lexer": "ipython3",
   "version": "3.10.18"
  }
 },
 "nbformat": 4,
 "nbformat_minor": 5
}
